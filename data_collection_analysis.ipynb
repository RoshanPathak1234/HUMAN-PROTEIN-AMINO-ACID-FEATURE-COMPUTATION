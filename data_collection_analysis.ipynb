{
 "cells": [
  {
   "cell_type": "code",
   "execution_count": null,
   "metadata": {},
   "outputs": [
    {
     "name": "stderr",
     "output_type": "stream",
     "text": [
      "2025-04-02 15:26:51,778 - INFO - Dataset loaded and NaN values filled.\n",
      "2025-04-02 15:26:51,785 - INFO - Protein information loaded successfully.\n",
      "2025-04-02 15:26:51,787 - INFO - Starting with dataset CSV file.\n",
      "2025-04-02 15:26:52,558 - INFO - Computing feature: Mono_Amino_Comp_1\n",
      "2025-04-02 15:27:22,825 - INFO - Feature 'Mono_Amino_Comp_1' added and saved to 'processed_data.csv'.\n",
      "2025-04-02 15:27:22,878 - INFO - Computing feature: Di_Amino_Comp_1\n",
      "2025-04-02 15:28:30,165 - INFO - Feature 'Di_Amino_Comp_1' added and saved to 'processed_data.csv'.\n",
      "2025-04-02 15:28:31,185 - INFO - Computing feature: Di_Amino_Comp_2\n",
      "2025-04-02 15:29:51,172 - INFO - Feature 'Di_Amino_Comp_2' added and saved to 'processed_data.csv'.\n",
      "2025-04-02 15:29:58,487 - INFO - Computing feature: Di_Amino_Comp_3\n",
      "2025-04-02 15:31:38,790 - INFO - Feature 'Di_Amino_Comp_3' added and saved to 'processed_data.csv'.\n",
      "2025-04-02 15:31:46,624 - INFO - Computing feature: ATC_Values\n",
      "2025-04-02 15:31:52,510 - WARNING - Unknown amino acid found: U\n",
      "2025-04-02 15:31:52,629 - WARNING - Unknown amino acid found: U\n",
      "2025-04-02 15:31:52,813 - WARNING - Unknown amino acid found: U\n",
      "2025-04-02 15:31:52,820 - WARNING - Unknown amino acid found: U\n",
      "2025-04-02 15:31:52,824 - WARNING - Unknown amino acid found: U\n",
      "2025-04-02 15:31:52,834 - WARNING - Unknown amino acid found: U\n",
      "2025-04-02 15:31:52,839 - WARNING - Unknown amino acid found: U\n",
      "2025-04-02 15:31:52,841 - WARNING - Unknown amino acid found: U\n",
      "2025-04-02 15:31:52,860 - WARNING - Unknown amino acid found: U\n",
      "2025-04-02 15:31:52,863 - WARNING - Unknown amino acid found: U\n",
      "2025-04-02 15:31:52,870 - WARNING - Unknown amino acid found: U\n",
      "2025-04-02 15:31:52,876 - WARNING - Unknown amino acid found: U\n",
      "2025-04-02 15:31:52,881 - WARNING - Unknown amino acid found: U\n",
      "2025-04-02 15:31:52,951 - WARNING - Unknown amino acid found: U\n",
      "2025-04-02 15:31:52,996 - WARNING - Unknown amino acid found: U\n",
      "2025-04-02 15:31:53,510 - WARNING - Unknown amino acid found: U\n",
      "2025-04-02 15:31:53,710 - WARNING - Unknown amino acid found: U\n",
      "2025-04-02 15:31:53,734 - WARNING - Unknown amino acid found: U\n",
      "2025-04-02 15:31:53,735 - WARNING - Unknown amino acid found: U\n",
      "2025-04-02 15:31:53,862 - WARNING - Unknown amino acid found: U\n",
      "2025-04-02 15:31:53,903 - WARNING - Unknown amino acid found: U\n",
      "2025-04-02 15:31:53,946 - WARNING - Unknown amino acid found: U\n",
      "2025-04-02 15:31:54,020 - WARNING - Unknown amino acid found: U\n",
      "2025-04-02 15:31:54,100 - WARNING - Unknown amino acid found: U\n",
      "2025-04-02 15:31:54,102 - WARNING - Unknown amino acid found: U\n",
      "2025-04-02 15:31:54,105 - WARNING - Unknown amino acid found: U\n",
      "2025-04-02 15:31:54,250 - WARNING - Unknown amino acid found: U\n",
      "2025-04-02 15:31:54,318 - WARNING - Unknown amino acid found: U\n",
      "2025-04-02 15:31:54,321 - WARNING - Unknown amino acid found: U\n",
      "2025-04-02 15:31:54,842 - WARNING - Unknown amino acid found: U\n",
      "2025-04-02 15:31:55,428 - WARNING - Unknown amino acid found: U\n",
      "2025-04-02 15:31:55,729 - WARNING - Unknown amino acid found: U\n",
      "2025-04-02 15:31:55,861 - WARNING - Unknown amino acid found: U\n",
      "2025-04-02 15:31:56,027 - WARNING - Unknown amino acid found: U\n",
      "2025-04-02 15:31:56,389 - WARNING - Unknown amino acid found: U\n",
      "2025-04-02 15:31:56,984 - WARNING - Unknown amino acid found: (\n",
      "2025-04-02 15:31:56,987 - WARNING - Unknown amino acid found: t\n",
      "2025-04-02 15:31:56,989 - WARNING - Unknown amino acid found: r\n",
      "2025-04-02 15:31:56,993 - WARNING - Unknown amino acid found: u\n",
      "2025-04-02 15:31:56,994 - WARNING - Unknown amino acid found: n\n",
      "2025-04-02 15:31:56,997 - WARNING - Unknown amino acid found: c\n",
      "2025-04-02 15:31:57,000 - WARNING - Unknown amino acid found: a\n",
      "2025-04-02 15:31:57,004 - WARNING - Unknown amino acid found: t\n",
      "2025-04-02 15:31:57,006 - WARNING - Unknown amino acid found: e\n",
      "2025-04-02 15:31:57,010 - WARNING - Unknown amino acid found: d\n",
      "2025-04-02 15:31:57,014 - WARNING - Unknown amino acid found: )\n",
      "2025-04-02 15:31:57,175 - WARNING - Unknown amino acid found: U\n",
      "2025-04-02 15:32:49,042 - INFO - Feature 'ATC_Values' added and saved to 'processed_data.csv'.\n",
      "2025-04-02 15:32:53,355 - INFO - Computing feature: Bond_Composition\n",
      "2025-04-02 15:33:02,680 - WARNING - Unknown amino acid found in bond computation: U\n",
      "2025-04-02 15:33:02,846 - WARNING - Unknown amino acid found in bond computation: U\n",
      "2025-04-02 15:33:03,245 - WARNING - Unknown amino acid found in bond computation: U\n",
      "2025-04-02 15:33:03,252 - WARNING - Unknown amino acid found in bond computation: U\n",
      "2025-04-02 15:33:03,257 - WARNING - Unknown amino acid found in bond computation: U\n",
      "2025-04-02 15:33:03,260 - WARNING - Unknown amino acid found in bond computation: U\n",
      "2025-04-02 15:33:03,264 - WARNING - Unknown amino acid found in bond computation: U\n",
      "2025-04-02 15:33:03,266 - WARNING - Unknown amino acid found in bond computation: U\n",
      "2025-04-02 15:33:03,267 - WARNING - Unknown amino acid found in bond computation: U\n",
      "2025-04-02 15:33:03,269 - WARNING - Unknown amino acid found in bond computation: U\n",
      "2025-04-02 15:33:03,272 - WARNING - Unknown amino acid found in bond computation: U\n",
      "2025-04-02 15:33:03,277 - WARNING - Unknown amino acid found in bond computation: U\n",
      "2025-04-02 15:33:03,280 - WARNING - Unknown amino acid found in bond computation: U\n",
      "2025-04-02 15:33:03,405 - WARNING - Unknown amino acid found in bond computation: U\n",
      "2025-04-02 15:33:03,554 - WARNING - Unknown amino acid found in bond computation: U\n",
      "2025-04-02 15:33:05,837 - WARNING - Unknown amino acid found in bond computation: U\n",
      "2025-04-02 15:33:06,601 - WARNING - Unknown amino acid found in bond computation: U\n",
      "2025-04-02 15:33:06,689 - WARNING - Unknown amino acid found in bond computation: U\n",
      "2025-04-02 15:33:06,690 - WARNING - Unknown amino acid found in bond computation: U\n",
      "2025-04-02 15:33:07,456 - WARNING - Unknown amino acid found in bond computation: U\n",
      "2025-04-02 15:33:07,639 - WARNING - Unknown amino acid found in bond computation: U\n",
      "2025-04-02 15:33:07,753 - WARNING - Unknown amino acid found in bond computation: U\n",
      "2025-04-02 15:33:07,980 - WARNING - Unknown amino acid found in bond computation: U\n",
      "2025-04-02 15:33:08,253 - WARNING - Unknown amino acid found in bond computation: U\n",
      "2025-04-02 15:33:08,255 - WARNING - Unknown amino acid found in bond computation: U\n",
      "2025-04-02 15:33:08,256 - WARNING - Unknown amino acid found in bond computation: U\n",
      "2025-04-02 15:33:08,729 - WARNING - Unknown amino acid found in bond computation: U\n",
      "2025-04-02 15:33:09,016 - WARNING - Unknown amino acid found in bond computation: U\n",
      "2025-04-02 15:33:09,019 - WARNING - Unknown amino acid found in bond computation: U\n",
      "2025-04-02 15:33:10,550 - WARNING - Unknown amino acid found in bond computation: U\n",
      "2025-04-02 15:33:12,399 - WARNING - Unknown amino acid found in bond computation: U\n",
      "2025-04-02 15:33:13,367 - WARNING - Unknown amino acid found in bond computation: U\n",
      "2025-04-02 15:33:14,095 - WARNING - Unknown amino acid found in bond computation: U\n",
      "2025-04-02 15:33:14,744 - WARNING - Unknown amino acid found in bond computation: U\n",
      "2025-04-02 15:33:16,865 - WARNING - Unknown amino acid found in bond computation: U\n",
      "2025-04-02 15:33:18,952 - WARNING - Unknown amino acid found in bond computation: (\n",
      "2025-04-02 15:33:18,955 - WARNING - Unknown amino acid found in bond computation: t\n",
      "2025-04-02 15:33:18,957 - WARNING - Unknown amino acid found in bond computation: r\n",
      "2025-04-02 15:33:18,962 - WARNING - Unknown amino acid found in bond computation: u\n",
      "2025-04-02 15:33:18,965 - WARNING - Unknown amino acid found in bond computation: n\n",
      "2025-04-02 15:33:18,970 - WARNING - Unknown amino acid found in bond computation: c\n",
      "2025-04-02 15:33:18,973 - WARNING - Unknown amino acid found in bond computation: a\n",
      "2025-04-02 15:33:18,980 - WARNING - Unknown amino acid found in bond computation: t\n",
      "2025-04-02 15:33:18,985 - WARNING - Unknown amino acid found in bond computation: e\n",
      "2025-04-02 15:33:18,991 - WARNING - Unknown amino acid found in bond computation: d\n",
      "2025-04-02 15:33:19,002 - WARNING - Unknown amino acid found in bond computation: )\n",
      "2025-04-02 15:33:19,962 - WARNING - Unknown amino acid found in bond computation: U\n",
      "2025-04-02 15:34:14,187 - INFO - Feature 'Bond_Composition' added and saved to 'processed_data.csv'.\n",
      "2025-04-02 15:34:18,937 - INFO - Computing feature: physio_chemical_properties\n",
      "2025-04-02 15:35:22,419 - INFO - Feature 'physio_chemical_properties' added and saved to 'processed_data.csv'.\n",
      "2025-04-02 15:35:26,125 - INFO - Processing complete. All features added iteratively.\n"
     ]
    }
   ],
   "source": [
    "from feature_computation import compute_protein_feature\n",
    "\n",
    "data_set = \"Human_Cancer_Genes_Data_CSV.csv\"\n",
    "json = \"./protein_Info.json\"\n",
    "output_file = \"processed_data.csv\"\n",
    "compute_protein_feature(dataset_path=data_set , protein_info_path=json , out_file=output_file)"
   ]
  },
  {
   "cell_type": "code",
   "execution_count": 3,
   "metadata": {},
   "outputs": [
    {
     "name": "stdout",
     "output_type": "stream",
     "text": [
      "✅ Merged dataset saved as 'merged_human_cancer_with_centrality.csv'\n",
      "Total rows in merged dataset: 20421 (should match original human cancer dataset)\n"
     ]
    }
   ],
   "source": [
    "import pandas as pd\n",
    "\n",
    "centrality_df = pd.read_csv(\".\\\\centrality features.csv\")\n",
    "human_cancer_df = pd.read_csv(\".\\\\Human_Genes_Processed_Data_For_Cancer_Analysis.csv\")\n",
    "\n",
    "\n",
    "centrality_df['name'] = centrality_df['name'].astype(str).str.strip().str.upper()\n",
    "human_cancer_df['Entry'] = human_cancer_df['Entry'].astype(str).str.strip().str.upper()\n",
    "\n",
    "\n",
    "merged_df = pd.merge(human_cancer_df, centrality_df, how='left', left_on='Entry', right_on='name')\n",
    "\n",
    "merged_df.drop(columns=['name'], inplace=True)\n",
    "\n",
    "\n",
    "merged_df.to_csv(\"final_dataset.csv\", index=False)\n",
    "\n",
    "print(f\"✅ Merged dataset saved as 'merged_human_cancer_with_centrality.csv'\")\n",
    "print(f\"Total rows in merged dataset: {len(merged_df)} (should match original human cancer dataset)\")\n"
   ]
  },
  {
   "cell_type": "code",
   "execution_count": 4,
   "metadata": {},
   "outputs": [
    {
     "name": "stderr",
     "output_type": "stream",
     "text": [
      "C:\\Users\\Acer\\AppData\\Local\\Temp\\ipykernel_7188\\1980308662.py:1: DtypeWarning: Columns (1273,1279) have mixed types. Specify dtype option on import or set low_memory=False.\n",
      "  df = pd.read_csv(\"final_dataset.csv\")\n"
     ]
    },
    {
     "name": "stdout",
     "output_type": "stream",
     "text": [
      "Total number of columns: 1284\n"
     ]
    }
   ],
   "source": [
    "df = pd.read_csv(\"final_dataset.csv\")\n",
    "\n",
    "print(f\"Total number of columns: {df.shape[1]}\")"
   ]
  },
  {
   "cell_type": "code",
   "execution_count": null,
   "metadata": {},
   "outputs": [],
   "source": [
    "import pandas as pd\n",
    "\n",
    "# Load the dataset\n",
    "df = pd.read_csv('final_dataset.csv')\n",
    "\n",
    "# Print column names with data types\n",
    "print(df.dtypes)\n"
   ]
  }
 ],
 "metadata": {
  "kernelspec": {
   "display_name": "Python 3",
   "language": "python",
   "name": "python3"
  },
  "language_info": {
   "codemirror_mode": {
    "name": "ipython",
    "version": 3
   },
   "file_extension": ".py",
   "mimetype": "text/x-python",
   "name": "python",
   "nbconvert_exporter": "python",
   "pygments_lexer": "ipython3",
   "version": "3.12.1"
  }
 },
 "nbformat": 4,
 "nbformat_minor": 2
}
